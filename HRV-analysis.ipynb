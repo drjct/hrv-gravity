{
 "cells": [
  {
   "cell_type": "markdown",
   "metadata": {},
   "source": [
    "# HRV Analysis"
   ]
  },
  {
   "cell_type": "code",
   "execution_count": 1,
   "metadata": {},
   "outputs": [],
   "source": [
    "import pandas as pd\n",
    "import numpy as np\n",
    "import seaborn as sns\n",
    "import matplotlib.pyplot as plt\n",
    "import peakutils\n",
    "from hrvanalysis import remove_outliers, remove_ectopic_beats, interpolate_nan_values, get_time_domain_features, get_frequency_domain_features, plot_psd\n",
    "from scipy.signal import butter, lfilter, find_peaks\n",
    "from scipy.stats import zscore\n",
    "from pyhrv import nonlinear\n",
    "from pyentrp import entropy as ent\n",
    "\n",
    "results = {}"
   ]
  },
  {
   "cell_type": "markdown",
   "metadata": {},
   "source": [
    "## Background\n",
    "\n",
    "The human cardiovascular system is thoroughly challenged during spaceflight. Factors such as radiation exposure,\n",
    "altered gravity, and acceleration associated with launch and landing, can all have impact on cardiovascular\n",
    "health and function. On returning from space and exposure to normal gravitational conditions, the challenged\n",
    "human cardiovascular system often presents with the following problems: cardiac atrophy, decreased\n",
    "baroreflex sensitivity, altered autonomic function, and oxidative damage, which can lead to orthostatic\n",
    "intolerance and a reduction in work capacity.\n",
    "\n",
    "Heart rate variability (HRV) analysis of ECG data allow for a quick and accurate method to assess cardiovascular health in astronauts exposed to hypergravity conditions during spaceflight launch. This research project aims to answer NASA's Human Research Program (HRP) goal to optimize crew health and performance and address cardiovascular risks associated with hypergravity.\n",
    "   \n",
    "Our research will focus on detecting cardiovascular changes in response to hypergravity by analyzing ECG recordings taken from mice exposed to 4 weeks of centrifugation. Specifically, we will be extracting and analyzing heart rate variability measures that are present in three different realms: 1) time-domain analysis 2) frequency-domain analysis, and 3) non-linearity measures analysis.\n",
    "\n",
    "*This Jupyter notebook establishes a proof-of-concept heart rate variability analysis can be done with efficiency and reproducability.* Here, we show an analysis pipeline using an open-source database from PhysioNet's MIT-BIH Normal Sinus Rhythm Database (https://physionet.org/physiobank/database/nsrdb/).\n",
    "\n",
    "## Data Collection\n",
    "\n",
    "The MIT-BIH Normal Sinus Rhythm Database includes 18 long-term ECG recordings of subjects referred to the Arrhythmia Laboratory at Boston's Beth Israel Hospital (now the Beth Israel Deaconess Medical Center). Subjects included in this database were found to have had no significant arrhythmias; they include 5 men, aged 26 to 45, and 13 women, aged 20 to 50 [1] . The first five minutes of ECG data were selected, because five minutes is the length of time traditionally required for short-term HRV analysis.\n",
    "   \n",
    "## Data Preperation\n",
    "\n",
    "Refer to `Convert-From-PhysioNet.ipynb` to prepare the raw .csv files. \n",
    "   \n",
    "## Output Overview\n",
    "\n",
    "|Name   | Object Type  | Domain  | Description  |\n",
    "|---|---|---|---|\n",
    "|SDNN   | float  | Time  | Standard deviation of the IBI of normal sinus beats   |\n",
    "|pNN50   | float  | Time  | Percentage of adjacent N-N intervals that differ from each other by more than 50 ms  |\n",
    "|RMSSD   | float  | Time  | Root mean square of successive differences between normal heart beats  |\n",
    "|HR_diff   | float  | Time  | the average difference between the highest and lowest heart rates during each respiratory cycle (HR Max - HR Min) |\n",
    "|VLF   | float  | Frequency  | Very low frequency band (0.0033-0.04 Hz in humans)  |\n",
    "|LF   | float  | Frequency  | Low frequency (LF) band (0.04-0.15 Hz in humans) |\n",
    "|HF   | float  | Frequency  | High frequency (HF) band (0.15-0.40 Hz in humans)  |\n",
    "|LHFratio   | float  | Frequency  | The ratio of LF to HF power |\n",
    "|S   | float  | Nonlinear  | The area of the ellipse |\n",
    "|SD1   | float  | Nonlinear  | The width of the ellipse  |\n",
    "|SD2   | float  | Nonlinear  | The length of the ellipse  |\n",
    "|SDratio   | float  | Nonlinear  | The ratio of SD1/SD2 that measures the unpredictability in a time series  |\n",
    "|SampEn   | float  | Nonlinear  | Sample entropy: quantification of the regularity and complexity of physiological time-series signals  |\n",
    "|ShanEn   | float  | Nonlinear  | Shannon entropy: general measure of uncertainty  |"
   ]
  },
  {
   "cell_type": "markdown",
   "metadata": {},
   "source": [
    "## Data Cleaning"
   ]
  },
  {
   "cell_type": "code",
   "execution_count": 2,
   "metadata": {},
   "outputs": [],
   "source": [
    "df = pd.read_csv('raw/human/PhysioNet-nsrdb/16272-128.csv',\n",
    "            sep = ',', skiprows = 6, names = ['Time', 'ECG mV'])"
   ]
  },
  {
   "cell_type": "code",
   "execution_count": 3,
   "metadata": {},
   "outputs": [],
   "source": [
    "fs = 128 # sampling rate, obtained from `p_signal` key in `Convert-From-PhysioNet.ipynb`\n",
    "\n",
    "data = df[0:int((300/(1/fs)))] # Select only the first five minutes of data\n",
    "# 300 seconds / (1/Sampling rate)"
   ]
  },
  {
   "cell_type": "markdown",
   "metadata": {},
   "source": [
    "### Data Pre-processing"
   ]
  },
  {
   "cell_type": "markdown",
   "metadata": {},
   "source": [
    "#### Baseline Correction Through Polynomial Fitting\n",
    "Baseline Correction through polynomial fitting is necessary in the event that your raw data file has baseline drift. See\n",
    "https://peakutils.readthedocs.io/en/latest/reference.html#module-peakutils.baseline for more documentation."
   ]
  },
  {
   "cell_type": "code",
   "execution_count": 4,
   "metadata": {},
   "outputs": [],
   "source": [
    "polynomial = 3 # default is 3\n",
    "baseline_corr = peakutils.baseline(data['ECG mV'], polynomial)\n",
    "data = data.assign(Detrend=data['ECG mV']-baseline_corr) #add new columns to dataframe"
   ]
  },
  {
   "cell_type": "markdown",
   "metadata": {},
   "source": [
    "#### Bandpass Filter Application\n",
    "Butterworth Bandpass Digital Filter - application of a digital filter can help reduce noise in the raw signal. See \n",
    "https://scipy-cookbook.readthedocs.io/items/ButterworthBandpass.html for more information."
   ]
  },
  {
   "cell_type": "code",
   "execution_count": 5,
   "metadata": {},
   "outputs": [],
   "source": [
    "def butter_bandpass(lowcut, highcut, fs, order=3):\n",
    "    nyq = 0.5 * fs\n",
    "    low = lowcut / nyq\n",
    "    high = highcut / nyq\n",
    "    b, a = butter(order, [low, high], btype='band')\n",
    "    return b, a\n",
    "\n",
    "def butter_bandpass_filter(data, lowcut, highcut, fs, order=2):\n",
    "    b, a = butter_bandpass(lowcut, highcut, fs, order=order)\n",
    "    y = lfilter(b, a, data)\n",
    "    return y"
   ]
  },
  {
   "cell_type": "code",
   "execution_count": 6,
   "metadata": {},
   "outputs": [],
   "source": [
    "# Digitally bandpass‐filter between 0.1 and 50 Hz.\n",
    "data = data.assign(ECG_Bandpass=butter_bandpass_filter(data['ECG mV'].values, .1, 60, fs))"
   ]
  },
  {
   "cell_type": "markdown",
   "metadata": {},
   "source": [
    "#### Amplify R peak by template matching to a partial sine wave\n",
    "Amplification of R peaks by template matching - use of a partial sine wave to amplify the ECG peaks. See https://en.wikipedia.org/wiki/Template_matching for more information."
   ]
  },
  {
   "cell_type": "code",
   "execution_count": 7,
   "metadata": {},
   "outputs": [],
   "source": [
    "# Use Sine Wave to amplify QRS complex\n",
    "t = np.linspace(0.5 * np.pi, 1.5 * np.pi, 15) # linear spaced vector between 0.5 pi and 1.5 pi \n",
    "qrs_filter = np.sin(t) # create sine wave\n",
    "\n",
    "# Compute cross correlation between ecg and qrs filter\n",
    "similarity = np.correlate(data['ECG_Bandpass'], qrs_filter, mode='same')\n",
    "data['ECG normalized'] = similarity"
   ]
  },
  {
   "cell_type": "markdown",
   "metadata": {},
   "source": [
    "#### Plot data with peaks"
   ]
  },
  {
   "cell_type": "code",
   "execution_count": 8,
   "metadata": {},
   "outputs": [],
   "source": [
    "%matplotlib qt\n",
    "\n",
    "# Peak Detection\n",
    "# https://docs.scipy.org/doc/scipy/reference/generated/scipy.signal.find_peaks.html\n",
    "y = data['ECG normalized']\n",
    "x = data['Time']\n",
    "ind = find_peaks(data['ECG normalized'], height = 1, distance = 75)[0]\n",
    "# distance in sample recorded\n",
    "\n",
    "plt.xlabel('Time (s)')\n",
    "plt.ylabel('ECG (normalized)')\n",
    "plt.plot(x, y, '--')\n",
    "plt.plot(x[ind], y[ind], 'r+', ms=5, mew=2,\n",
    "         label='{} peaks'.format(len(ind)))\n",
    "plt.legend()\n",
    "plt.title('ECG over Time')\n",
    "plt.show()"
   ]
  },
  {
   "cell_type": "markdown",
   "metadata": {},
   "source": [
    "![][logo]\n",
    "\n",
    "[logo]: img/ecg_normalized.png "
   ]
  },
  {
   "cell_type": "markdown",
   "metadata": {},
   "source": [
    "### ECG Cleaning\n",
    "\n",
    "To account for physiological artifacts and other types of artifacts, we first take all R-R intervals and replace all outliers (at least 3 standard deviations away) with the median of the dataset. Then, we detect and remove ectopic beats, effectively change R-R intervals into N-N intervals. \n",
    "Interpolation of missing data was performed linearally. See [2] for more details."
   ]
  },
  {
   "cell_type": "code",
   "execution_count": 9,
   "metadata": {},
   "outputs": [
    {
     "name": "stdout",
     "output_type": "stream",
     "text": [
      "3 outliers were replaced with the median\n",
      "0 ectopic beat(s) have been deleted with malik rule.\n"
     ]
    }
   ],
   "source": [
    "rr_ind = np.diff(ind)\n",
    "rr = rr_ind.copy()\n",
    "z_score = zscore(rr)\n",
    "rr_ind[np.abs(z_score) > 3] = np.median(rr)\n",
    "print('{} outliers were replaced with the median'.format(sum(map(lambda x,y: bool(x-y),rr,rr_ind))))\n",
    "ect_ind = remove_ectopic_beats(rr_ind)\n",
    "nn_ind = interpolate_nan_values(rr_intervals=ect_ind)"
   ]
  },
  {
   "cell_type": "code",
   "execution_count": 10,
   "metadata": {},
   "outputs": [],
   "source": [
    "time_domain_features = get_time_domain_features(nn_ind)"
   ]
  },
  {
   "cell_type": "markdown",
   "metadata": {},
   "source": [
    "## Time Domain Measures"
   ]
  },
  {
   "cell_type": "code",
   "execution_count": 11,
   "metadata": {},
   "outputs": [],
   "source": [
    "time_dict = get_time_domain_features(nn_ind)\n",
    "\n",
    "results['SDNN'] = time_dict['sdnn']\n",
    "results['pNN50'] = time_dict['pnni_20']\n",
    "results['RMSSD'] = time_dict['rmssd']\n",
    "results['HRdiff'] = time_dict['max_hr'] - time_dict['min_hr']"
   ]
  },
  {
   "cell_type": "markdown",
   "metadata": {},
   "source": [
    "## Frequency Domain Measures\n",
    "Apply a Fast Fourier Transform (FFT) to the time-series data to obtain frequency domain measures."
   ]
  },
  {
   "cell_type": "code",
   "execution_count": 12,
   "metadata": {},
   "outputs": [],
   "source": [
    "freq_dict = get_frequency_domain_features(nn_ind)\n",
    "\n",
    "results['VLF'] = freq_dict['vlf']\n",
    "results['LF'] = freq_dict['lf']\n",
    "results['HF'] = freq_dict['hf']\n",
    "results['LHFratio'] = freq_dict['lf_hf_ratio']"
   ]
  },
  {
   "cell_type": "code",
   "execution_count": 17,
   "metadata": {},
   "outputs": [
    {
     "data": {
      "image/png": "[encoded data removed]",
      "text/plain": [
       "<Figure size 864x576 with 1 Axes>"
      ]
     },
     "metadata": {},
     "output_type": "display_data"
    }
   ],
   "source": [
    "%matplotlib inline\n",
    "\n",
    "plot_psd(nn_ind, method=\"welch\")"
   ]
  },
  {
   "cell_type": "markdown",
   "metadata": {},
   "source": [
    "## Nonlinear Domain Measures"
   ]
  },
  {
   "cell_type": "markdown",
   "metadata": {},
   "source": [
    "#### Poincaré Plot"
   ]
  },
  {
   "cell_type": "code",
   "execution_count": 14,
   "metadata": {},
   "outputs": [
    {
     "data": {
      "image/png": "[encoded data removed]",
      "text/plain": [
       "<Figure size 432x432 with 1 Axes>"
      ]
     },
     "metadata": {
      "needs_background": "light"
     },
     "output_type": "display_data"
    }
   ],
   "source": [
    "%matplotlib inline\n",
    "\n",
    "plot, results['SD1'], results['SD2'], results['SDratio'], results['S'] = nonlinear.poincare(nn_ind)"
   ]
  },
  {
   "cell_type": "markdown",
   "metadata": {},
   "source": [
    "#### Entropies"
   ]
  },
  {
   "cell_type": "code",
   "execution_count": 15,
   "metadata": {},
   "outputs": [],
   "source": [
    "results['SampEn']= np.mean(ent.sample_entropy(nn_ind, len(t), 0.2 * np.std(nn_ind))) # t = use the length of template vector\n",
    "results['ShanEn'] = ent.shannon_entropy(nn_ind)"
   ]
  },
  {
   "cell_type": "markdown",
   "metadata": {},
   "source": [
    "# Output"
   ]
  },
  {
   "cell_type": "code",
   "execution_count": 16,
   "metadata": {},
   "outputs": [
    {
     "data": {
      "text/html": [
       "<div>\n",
       "<style scoped>\n",
       "    .dataframe tbody tr th:only-of-type {\n",
       "        vertical-align: middle;\n",
       "    }\n",
       "\n",
       "    .dataframe tbody tr th {\n",
       "        vertical-align: top;\n",
       "    }\n",
       "\n",
       "    .dataframe thead th {\n",
       "        text-align: right;\n",
       "    }\n",
       "</style>\n",
       "<table border=\"1\" class=\"dataframe\">\n",
       "  <thead>\n",
       "    <tr style=\"text-align: right;\">\n",
       "      <th></th>\n",
       "      <th>Value</th>\n",
       "    </tr>\n",
       "  </thead>\n",
       "  <tbody>\n",
       "    <tr>\n",
       "      <th>SDNN</th>\n",
       "      <td>10.198087</td>\n",
       "    </tr>\n",
       "    <tr>\n",
       "      <th>pNN50</th>\n",
       "      <td>0.000000</td>\n",
       "    </tr>\n",
       "    <tr>\n",
       "      <th>RMSSD</th>\n",
       "      <td>3.451471</td>\n",
       "    </tr>\n",
       "    <tr>\n",
       "      <th>HRdiff</th>\n",
       "      <td>204.412719</td>\n",
       "    </tr>\n",
       "    <tr>\n",
       "      <th>VLF</th>\n",
       "      <td>42.651313</td>\n",
       "    </tr>\n",
       "    <tr>\n",
       "      <th>LF</th>\n",
       "      <td>61.070408</td>\n",
       "    </tr>\n",
       "    <tr>\n",
       "      <th>HF</th>\n",
       "      <td>10.179774</td>\n",
       "    </tr>\n",
       "    <tr>\n",
       "      <th>LHFratio</th>\n",
       "      <td>5.999191</td>\n",
       "    </tr>\n",
       "    <tr>\n",
       "      <th>SD1</th>\n",
       "      <td>2.440290</td>\n",
       "    </tr>\n",
       "    <tr>\n",
       "      <th>SD2</th>\n",
       "      <td>14.196417</td>\n",
       "    </tr>\n",
       "    <tr>\n",
       "      <th>SDratio</th>\n",
       "      <td>5.817513</td>\n",
       "    </tr>\n",
       "    <tr>\n",
       "      <th>S</th>\n",
       "      <td>108.835364</td>\n",
       "    </tr>\n",
       "    <tr>\n",
       "      <th>SampEn</th>\n",
       "      <td>0.654768</td>\n",
       "    </tr>\n",
       "    <tr>\n",
       "      <th>ShanEn</th>\n",
       "      <td>5.066643</td>\n",
       "    </tr>\n",
       "  </tbody>\n",
       "</table>\n",
       "</div>"
      ],
      "text/plain": [
       "               Value\n",
       "SDNN       10.198087\n",
       "pNN50       0.000000\n",
       "RMSSD       3.451471\n",
       "HRdiff    204.412719\n",
       "VLF        42.651313\n",
       "LF         61.070408\n",
       "HF         10.179774\n",
       "LHFratio    5.999191\n",
       "SD1         2.440290\n",
       "SD2        14.196417\n",
       "SDratio     5.817513\n",
       "S         108.835364\n",
       "SampEn      0.654768\n",
       "ShanEn      5.066643"
      ]
     },
     "execution_count": 16,
     "metadata": {},
     "output_type": "execute_result"
    }
   ],
   "source": [
    "pd.DataFrame.from_dict(results, orient='index', columns = ['Value'])"
   ]
  },
  {
   "cell_type": "markdown",
   "metadata": {},
   "source": [
    "**References**\n",
    "\n",
    "1) Goldberger AL, Amaral LAN, Glass L, Hausdorff JM, Ivanov PCh, Mark RG, Mietus JE, Moody GB, Peng C-K, Stanley HE. PhysioBank, PhysioToolkit, and PhysioNet: Components of a New Research Resource for Complex Physiologic Signals. Circulation 101(23):e215-e220 [Circulation Electronic Pages; http://circ.ahajournals.org/content/101/23/e215.full]; 2000 (June 13).\n",
    "\n",
    "2) Kamath M. V., Fallen E. L. (1995). Correction of the heart rate variability signal for ectopics and missing beats, in Heart Rate Variability, eds M. Malik, Camm A. J., editors. (Armonk, NY: Futura Publishing Co. Inc.), 75–85."
   ]
  }
 ],
 "metadata": {
  "kernelspec": {
   "display_name": "Python 3",
   "language": "python",
   "name": "python3"
  },
  "language_info": {
   "codemirror_mode": {
    "name": "ipython",
    "version": 3
   },
   "file_extension": ".py",
   "mimetype": "text/x-python",
   "name": "python",
   "nbconvert_exporter": "python",
   "pygments_lexer": "ipython3",
   "version": "3.7.0"
  }
 },
 "nbformat": 4,
 "nbformat_minor": 2
}
