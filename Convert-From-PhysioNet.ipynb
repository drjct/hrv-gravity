{
 "cells": [
  {
   "cell_type": "markdown",
   "metadata": {},
   "source": [
    "## Purpose\n",
    "\n",
    "The purpose of this notebook is to pull data from the MIT-BIH database (https://physionet.org/physiobank/database/nsrdb/) and save it to a local .csv.  \n",
    "One of the requirements is the library **wfdb** which can be found here: https://pypi.org/project/wfdb/.  \n",
    "Please install via pip : `pip install wfdb` or conda : `conda install -c conda-forge wfdb`"
   ]
  },
  {
   "cell_type": "code",
   "execution_count": 1,
   "metadata": {},
   "outputs": [],
   "source": [
    "from pathlib import Path\n",
    "import pandas as pd\n",
    "import numpy as np\n",
    "import wfdb\n",
    "from IPython.display import display"
   ]
  },
  {
   "cell_type": "markdown",
   "metadata": {},
   "source": [
    "Select three ECG recordings by manipulating the items in `records_lst`"
   ]
  },
  {
   "cell_type": "code",
   "execution_count": 2,
   "metadata": {},
   "outputs": [],
   "source": [
    "# https://physionet.org/physiobank/database/nsrdb/\n",
    "records_lst = [16265, 16272, 16273]"
   ]
  },
  {
   "cell_type": "markdown",
   "metadata": {},
   "source": [
    "Get an individual record : `record = wfdb.rdrecord('16265', pb_dir='nsrdb/')`  \n",
    "Display all keys and values in the `record` object. `display(record.__dict__)`\n",
    "\n",
    "See https://github.com/MIT-LCP/wfdb-python/blob/master/demo.ipynb for more info"
   ]
  },
  {
   "cell_type": "code",
   "execution_count": 3,
   "metadata": {},
   "outputs": [],
   "source": [
    "record = wfdb.rdrecord('16265', pb_dir='nsrdb/') # Pull a single record out"
   ]
  },
  {
   "cell_type": "code",
   "execution_count": 4,
   "metadata": {},
   "outputs": [
    {
     "data": {
      "text/plain": [
       "{'record_name': '16265',\n",
       " 'n_sig': 2,\n",
       " 'fs': 128,\n",
       " 'counter_freq': None,\n",
       " 'base_counter': None,\n",
       " 'sig_len': 11730944,\n",
       " 'base_time': datetime.time(8, 4),\n",
       " 'base_date': None,\n",
       " 'comments': ['32 M'],\n",
       " 'sig_name': ['ECG1', 'ECG2'],\n",
       " 'p_signal': array([[-0.165, -0.325],\n",
       "        [-0.155, -0.325],\n",
       "        [-0.195, -0.305],\n",
       "        ...,\n",
       "        [-0.05 , -0.095],\n",
       "        [-0.05 , -0.085],\n",
       "        [-0.05 , -0.085]]),\n",
       " 'd_signal': None,\n",
       " 'e_p_signal': None,\n",
       " 'e_d_signal': None,\n",
       " 'file_name': ['16265.dat', '16265.dat'],\n",
       " 'fmt': ['212', '212'],\n",
       " 'samps_per_frame': [1, 1],\n",
       " 'skew': [None, None],\n",
       " 'byte_offset': [None, None],\n",
       " 'adc_gain': [200.0, 200.0],\n",
       " 'baseline': [0, 0],\n",
       " 'units': ['mV', 'mV'],\n",
       " 'adc_res': [12, 12],\n",
       " 'adc_zero': [0, 0],\n",
       " 'init_value': [-33, -65],\n",
       " 'checksum': [15756, -21174],\n",
       " 'block_size': [0, 0]}"
      ]
     },
     "execution_count": 4,
     "metadata": {},
     "output_type": "execute_result"
    }
   ],
   "source": [
    "record.__dict__ # Examine the \"record\" object"
   ]
  },
  {
   "cell_type": "markdown",
   "metadata": {},
   "source": [
    "Save the ECG data into a .csv format. This for loop extracts the ECG Lead 2 values from the `p_signal` array.  \n",
    "Lead II is the most useful lead for detecting cardiac arrhythmias."
   ]
  },
  {
   "cell_type": "code",
   "execution_count": 5,
   "metadata": {},
   "outputs": [],
   "source": [
    "# Save each ECG file in database into a separate CSV\n",
    "\n",
    "output_dir = Path('raw/human/PhysioNet-nsrdb/')\n",
    "output_dir.mkdir(parents=True, exist_ok=True)\n",
    "\n",
    "for x in records_lst:\n",
    "    \n",
    "    record = wfdb.rdrecord(str(x), pb_dir='nsrdb/')\n",
    "    \n",
    "    fs = record.fs\n",
    "    \n",
    "    ECG = (record.p_signal[i][1] for i in np.arange(len(record.p_signal)))\n",
    "\n",
    "    df = pd.DataFrame(ECG, columns=['ECG mV'], dtype=float)\n",
    "    df = df.set_index([df.index * 1/fs])\n",
    "    df.index.names = ['Time (s)']\n",
    "    \n",
    "    output_file = str(x) + '-' + str(fs) + '.csv'\n",
    "    \n",
    "    df.to_csv(output_dir / output_file)"
   ]
  },
  {
   "cell_type": "markdown",
   "metadata": {},
   "source": [
    "Move on to `HRV-analysis.ipynb` for analysis."
   ]
  }
 ],
 "metadata": {
  "kernelspec": {
   "display_name": "Python 3",
   "language": "python",
   "name": "python3"
  },
  "language_info": {
   "codemirror_mode": {
    "name": "ipython",
    "version": 3
   },
   "file_extension": ".py",
   "mimetype": "text/x-python",
   "name": "python",
   "nbconvert_exporter": "python",
   "pygments_lexer": "ipython3",
   "version": "3.7.0"
  }
 },
 "nbformat": 4,
 "nbformat_minor": 2
}
